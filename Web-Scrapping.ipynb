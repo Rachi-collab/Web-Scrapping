{
 "cells": [
  {
   "cell_type": "markdown",
   "id": "e7b8eb23-e177-422a-9e3d-ababcdf0093f",
   "metadata": {},
   "source": [
    "## Web Scrapping"
   ]
  },
  {
   "cell_type": "code",
   "execution_count": 9,
   "id": "35e1a307-43c7-43a1-b377-6b3af7918389",
   "metadata": {},
   "outputs": [],
   "source": [
    "import requests\n",
    "from bs4 import BeautifulSoup\n",
    "import time"
   ]
  },
  {
   "cell_type": "code",
   "execution_count": 10,
   "id": "d625f7d2-12f5-4248-8f29-af62e6f6677a",
   "metadata": {},
   "outputs": [
    {
     "name": "stdout",
     "output_type": "stream",
     "text": [
      "The response code is :  <Response [200]>\n"
     ]
    }
   ],
   "source": [
    "#Requesting the website\n",
    "URL='https://timesofindia.indiatimes.com'\n",
    "response=requests.get(URL)\n",
    "print(\"The response code is : \",response)"
   ]
  },
  {
   "cell_type": "code",
   "execution_count": 11,
   "id": "e5b21998-75c7-4279-bb96-b97cf46b9658",
   "metadata": {},
   "outputs": [],
   "source": [
    "#Parese the HTML document\n",
    "soup=BeautifulSoup(response.content,'html.parser')"
   ]
  },
  {
   "cell_type": "code",
   "execution_count": 12,
   "id": "cf805d7e-aa35-42c2-81d6-a22da870227f",
   "metadata": {},
   "outputs": [],
   "source": [
    "#Extract the news headline from HTML\n",
    "headlines=soup.find_all('h2')"
   ]
  },
  {
   "cell_type": "code",
   "execution_count": 13,
   "id": "aec59560-0c56-497f-8668-dcdf98204dea",
   "metadata": {},
   "outputs": [
    {
     "name": "stdout",
     "output_type": "stream",
     "text": [
      "Technology \n",
      "Education \n",
      "Also in News \n",
      "Entertainment \n",
      " Photostories   \n",
      "World of stars \n",
      "Connect \n",
      "Loop the Loop \n",
      "Location Guesser \n",
      "Mini Crossword \n",
      "Daily Crossword \n",
      "Classic Sudoku \n",
      "Health+ \n",
      "World \n",
      "Sports \n",
      " esports   \n",
      "International Sports \n",
      "City \n",
      "Lifestyle \n",
      "Health+ \n",
      "Style \n",
      "Relationships \n",
      "Beauty \n",
      "Parenting \n",
      "Food \n",
      "Travel \n",
      "astrology \n",
      "More \n",
      "    \n",
      "Visual Stories \n",
      "Trending \n",
      "Korean Wave \n",
      "Videos \n",
      "Astrology \n",
      "Astrology News \n",
      "Entertainment \n",
      "Reviews \n",
      "Music \n",
      "Events \n",
      "Business \n",
      "Technology \n",
      "Latest Mobiles \n",
      "Education \n",
      " From Across TOI   \n",
      "Times Ascent \n",
      "Travel \n",
      "Recipes & Food News \n",
      "Opinion and Features \n",
      "The Voice of Conscience \n",
      "News Visual Stories \n",
      "Auto \n",
      "\r"
     ]
    }
   ],
   "source": [
    "#Display the headlines\n",
    "#print(headlines)\n",
    "for headline in headlines:\n",
    "    print(headline.text,\"\\n\",end=\"\\r\")\n",
    "    time.sleep(1)"
   ]
  },
  {
   "cell_type": "code",
   "execution_count": null,
   "id": "dc7372f7-62d9-4495-b8df-12a610e00c3b",
   "metadata": {},
   "outputs": [],
   "source": []
  }
 ],
 "metadata": {
  "kernelspec": {
   "display_name": "Python 3 (ipykernel)",
   "language": "python",
   "name": "python3"
  },
  "language_info": {
   "codemirror_mode": {
    "name": "ipython",
    "version": 3
   },
   "file_extension": ".py",
   "mimetype": "text/x-python",
   "name": "python",
   "nbconvert_exporter": "python",
   "pygments_lexer": "ipython3",
   "version": "3.12.7"
  }
 },
 "nbformat": 4,
 "nbformat_minor": 5
}
